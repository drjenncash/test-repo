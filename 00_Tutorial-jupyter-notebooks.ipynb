{
 "cells": [
  {
   "cell_type": "markdown",
   "id": "280e11f7-6de3-45c7-8d8b-1531d407079b",
   "metadata": {},
   "source": [
    "Sections of this notebook comes from several other tutorial notebooks including but not limited to the LSST introduction on the Rubin Science Platform, the Krittika Tutorial's, and several websites. "
   ]
  },
  {
   "cell_type": "markdown",
   "id": "c3f9aaf3-6d56-4753-9460-eae04b589f1e",
   "metadata": {
    "tags": []
   },
   "source": [
    "## 1.0. Introduction\n",
    "\n",
    "This Jupyter Notebook provides an introduction to how notebooks work. It demonstrates how to execute code and markdown text cells, how to import Python packages and learn about their modules, and provides links to further documentation.\n",
    "\n",
    "This Notebook also demonstrates the basic functionality of the Rubin Science Platform (RSP) installed at the Interim Data Facility (IDF; the Google Cloud), such as how to use the TAP service to query and retrieve catalog data; matplotlib to plot catalog data; the LSST Butler package to query and retrieve image data; and the LSST afwDisplay package to display images.\n",
    "\n",
    "This Notebook uses the Data Preview 0.2 (DP0.2) data set. This data set uses a subset of the DESC's Data Challenge 2 (DC2) simulated images, which have been *reprocessed* by Rubin Observatory using Version 23 of the LSST Science Pipelines. More information about the simulated data can be found in the <a href=\"https://ui.adsabs.harvard.edu/abs/2021ApJS..253...31L/abstract\">DESC's DC2 paper</a> and in the <a href=\"https://dp0-2.lsst.io\">DP0.2 data release documentation</a>."
   ]
  },
  {
   "cell_type": "markdown",
   "id": "08ae66af-cbb8-4e06-b51f-b7a268fa5e41",
   "metadata": {
    "tags": []
   },
   "source": [
    "### 1.1. How to use a Jupyter Notebook\n",
    "\n",
    "Jupyter Notebooks contain a mix of code, output, visualizations, and narrative text. The most comprehensive source for documentation about Jupyter Notebooks is https://jupyter-notebook.readthedocs.io, but there are many great beginner-level tutorials and demos out there. Usually a web search of a question, like \"how to make a table in markdown jupyter notebook\", will yield several good examples. Often the answers will be found in <a href=\"https://stackoverflow.com/\">StackOverflow</a>.\n",
    "\n",
    "A Jupyter Notebook is a series of cells. There are three types of cells: code, markdown, and raw. This text was generated from a markdown cell. Up in the menu bar you will find a drop-down menu to set the cell type."
   ]
  },
  {
   "cell_type": "markdown",
   "id": "7842b9ac-d5e7-40ca-a4c7-5adb2cddbbad",
   "metadata": {},
   "source": [
    "> **Warning:** All of the code cells in a notebook should be executed in the order that they appear."
   ]
  },
  {
   "cell_type": "markdown",
   "id": "4bbca34e-e40c-4a7e-8656-d98c7dd3338c",
   "metadata": {},
   "source": [
    "Click in the following code cell: with the cursor in the cell, simultaneously press \"shift\" and \"enter\" (or \"return\") to execute the cell code."
   ]
  },
  {
   "cell_type": "code",
   "execution_count": null,
   "id": "3243cab0-b557-404b-8650-d71f9595311e",
   "metadata": {
    "tags": []
   },
   "outputs": [],
   "source": [
    "# This is a code cell. Press shift-enter to execute.\n",
    "# The # makes these lines comments, not code. They are not executed.\n",
    "print('Hello, world!')"
   ]
  },
  {
   "cell_type": "code",
   "execution_count": null,
   "id": "f5514c86-1aea-4563-a503-e2876e5e64d1",
   "metadata": {
    "tags": []
   },
   "outputs": [],
   "source": [
    "# This is a code cell. Press shift-enter to execute.\n",
    "# The # makes these lines comments, not code. They are not executed.\n",
    "print('Hello, world!')"
   ]
  },
  {
   "cell_type": "markdown",
   "id": "ea7c8622-8f0b-4a5e-bb1a-00e5a3387d81",
   "metadata": {},
   "source": [
    "<!---\n",
    "This is a markdown cell.\n",
    "Press shift-enter to execute, and see the formatted text reappear.\n",
    "-->\n",
    "\n",
    "Double click on THESE WORDS IN THIS MARKDOWN CELL to see the markdown source code."
   ]
  },
  {
   "cell_type": "raw",
   "id": "a5fc1844-0d0b-4d38-883c-bc19bda999e8",
   "metadata": {
    "tags": []
   },
   "source": [
    "# This is a raw cell. You can press shift-enter, but nothing will execute.\n",
    "# The # symbol does not mean anything in a raw cell.\n",
    "print('Hello, world!')"
   ]
  },
  {
   "cell_type": "markdown",
   "id": "0d0f1d2f-31e0-47e7-bd99-fa3043fd9ca0",
   "metadata": {
    "tags": []
   },
   "source": [
    "#### 1.1.1. Jupyter Notebooks How-Tos\n",
    "\n",
    "**How to quickly execute all the cells:** \n",
    "Go to the top menu bar and select \"Kernel\", then \"Restart Kernel and Run All Cells\".\n",
    "\n",
    "**How to emergency-stop a notebook:** \n",
    "If a code cell is taking a long time to execute (e.g., if a process to retrieve an entire catalog was started by accident)\n",
    "kill it by going to \"Kernel\" in the top menu bar and selecting \"Restart Kernel and Clear All Outputs\".\n",
    "It might still a few tens of seconds, but it will stop the process and restart the kernel.\n",
    "\n",
    "**The kernel** is the computational engine for the notebook (the RSP uses a `python3` kernel),\n",
    "and can be thought of as a live compiler. \n",
    "Restarting the kernel and clearning all outputs means that all defined variables or functions are removed from memory, \n",
    "and all code cells revert to an \"unexecuted\" state.\n",
    "\n",
    "**How to view a table of contents for this notebook:** \n",
    "Click on the icon of a bullet list in the leftmost vertical menu bar, and an automatically-generated ToC will appear at left. \n",
    "Click on the icon of the file folder at the top of the leftmost vertical menu bar to return to a directory view.\n",
    "\n",
    "**How to know which version of the kernel is running:** \n",
    "Look along the bottom bar of this browser window, and find the version of the kernel.\n",
    "It is probably \"anaconda-...\", and it should match the verified version listed in the notebook's header. "
   ]
  },
  {
   "cell_type": "markdown",
   "id": "391d92e5-027b-4ea1-b555-52de12b39d39",
   "metadata": {},
   "source": [
    "\n",
    "For more information on navigating and using Jupyter notesbooks, refer to the website below\n",
    "\n",
    "https://www.dataquest.io/blog/jupyter-notebook-tutorial/"
   ]
  },
  {
   "cell_type": "markdown",
   "id": "5369f1e1-9271-450c-b039-61ff7b0a8630",
   "metadata": {
    "tags": []
   },
   "source": [
    "### 1.2. Package Imports\n",
    "\n",
    "Most Jupyter Notebooks start out by importing all the packages they will need in the first code cell.\n",
    "\n",
    "Complete knowledge of these packages is not required in order to complete this tutorial, but here is a bit of basic information and some links for further learning.\n",
    "\n",
    "**numpy**: A fundamental package for scientific computing with arrays in Python. Its comprehensive documentation is available at <a href=\"https://numpy.org\">numpy.org</a>, and it includes quickstart beginner guides. (The numpy package is not used in this notebook, but is imported as a demonstration because it is a very commonly-used package.) <br>\n",
    "\n",
    "**matplotlib**: This package is a comprehensive library for creating static, animated, and interactive visualizations in Python. Its comprehensive documentation is at <a href=\"https://matplotlib.org/\">matplotlib.org</a>. The <a href=\"https://matplotlib.org/stable/gallery/index.html\">matplotlib gallery</a> is a great place to start and links to examples. <br>\n",
    " \n",
    "**pandas**: A package which allows users to deal efficiently with tabular data in dataframes. Learn more in the <a href=\"https://pandas.pydata.org/docs/reference/api/pandas.DataFrame.html\">Pandas documentation</a>. <br>\n",
    "\n",
    "**astropy**: A Python package of useful astronomy tools. Learn more in the <a href=\"http://docs.astropy.org/en/stable/_modules/astropy/table/table.html\">astropy documentation</a>.\n",
    " \n"
   ]
  },
  {
   "cell_type": "markdown",
   "id": "eb8f9e40-029a-4489-95f5-08663ff96304",
   "metadata": {},
   "source": [
    "Import the packages used in this notebook by executing the following cell."
   ]
  },
  {
   "cell_type": "code",
   "execution_count": null,
   "id": "e539e6c2-0fc0-4963-8754-b3dfcf96646a",
   "metadata": {
    "tags": []
   },
   "outputs": [],
   "source": [
    "import numpy\n",
    "import matplotlib\n",
    "import matplotlib.pyplot as plt\n",
    "import pandas"
   ]
  },
  {
   "cell_type": "markdown",
   "id": "846288a7-ea39-40b3-8d44-025662000bf5",
   "metadata": {},
   "source": [
    "#### 1.2.1. Learn more about the imported Python packages\n",
    "\n",
    "Print the version of numpy and matplotlib."
   ]
  },
  {
   "cell_type": "code",
   "execution_count": null,
   "id": "4d38413a-09a6-459d-9029-3aa4e9ce863e",
   "metadata": {
    "tags": []
   },
   "outputs": [],
   "source": [
    "print('numpy version: ', numpy.__version__)\n",
    "print('matplotlib version: ', matplotlib.__version__)"
   ]
  },
  {
   "cell_type": "markdown",
   "id": "800a740c-30bc-41e5-b9ba-087b9634e2b7",
   "metadata": {},
   "source": [
    "View a pop-up list of any package's modules by writing the package name, then a period, and then pressing tab. Use the up and down arrows to scroll through the pop-up list. This works whether or not the line is commented-out. In the cell below, `numpy.` is commented-out because that is not an executable code statement, and if the # were not there, this cell would fail to execute (try it -- remove the #, press shift-enter, and watch it fail)."
   ]
  },
  {
   "cell_type": "code",
   "execution_count": null,
   "id": "19f6c549-53ff-4c24-ad0a-d0610964f9ae",
   "metadata": {
    "tags": []
   },
   "outputs": [],
   "source": [
    "# numpy."
   ]
  },
  {
   "cell_type": "markdown",
   "id": "e147d206-ec5b-4f4e-a47e-cd77cfed294e",
   "metadata": {},
   "source": [
    "Use \"help\" function to view the help documentation for a package. Remove the # symbol to un-comment any one line, and execute the following cell. Help documentation can be really long. Re-comment the line by replacing the #, then re-execute the cell and the output will go away."
   ]
  },
  {
   "cell_type": "code",
   "execution_count": null,
   "id": "ae5d2b86-3dee-4538-b90c-d93312822056",
   "metadata": {
    "tags": []
   },
   "outputs": [],
   "source": [
    "# help(numpy)\n",
    "# help(matplotlib)\n",
    "# help(numpy.abs)\n",
    "# help(matplotlib.pyplot)"
   ]
  },
  {
   "cell_type": "code",
   "execution_count": null,
   "id": "c88694b7-6d52-44f5-8d7f-7833e01ac4a7",
   "metadata": {},
   "outputs": [],
   "source": []
  }
 ],
 "metadata": {
  "kernelspec": {
   "display_name": "anaconda-panel-2023.05-py310",
   "language": "python",
   "name": "conda-env-anaconda-panel-2023.05-py310-py"
  },
  "language_info": {
   "codemirror_mode": {
    "name": "ipython",
    "version": 3
   },
   "file_extension": ".py",
   "mimetype": "text/x-python",
   "name": "python",
   "nbconvert_exporter": "python",
   "pygments_lexer": "ipython3",
   "version": "3.11.5"
  }
 },
 "nbformat": 4,
 "nbformat_minor": 5
}
